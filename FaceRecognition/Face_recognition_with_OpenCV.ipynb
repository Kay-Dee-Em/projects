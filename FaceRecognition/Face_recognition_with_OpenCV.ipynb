{
 "cells": [
  {
   "cell_type": "markdown",
   "id": "d04ed3ac",
   "metadata": {},
   "source": [
    "# Face recognition with OpenCV"
   ]
  },
  {
   "cell_type": "markdown",
   "id": "f9850053",
   "metadata": {},
   "source": [
    "**The purpose of this project is to examine whether the Face Recognition library can distinguish twins and detect people despite the significant age difference between given photos and tested images.**  "
   ]
  },
  {
   "cell_type": "markdown",
   "id": "ffc7e93b",
   "metadata": {},
   "source": [
    "## Table of contents"
   ]
  },
  {
   "cell_type": "markdown",
   "id": "164630fb",
   "metadata": {},
   "source": [
    "<div class=\"toc\">\n",
    "\t<ul class=\"toc-item\">\n",
    "\t\t<li>\n",
    "\t\t\t<span>\n",
    "\t\t\t\t<a href=\"#Face-recognition-in-pictures\" data-toc-modified-id=\"Face-recognition-in-pictures\">\n",
    "\t\t\t\t\t<span class=\"toc-item-num\">1.&nbsp;&nbsp;</span>Face recognition in pictures\n",
    "\t\t\t\t</a>\n",
    "\t\t\t</span>\n",
    "            <ul class=\"toc-item\">\n",
    "\t\t\t\t<li>\n",
    "\t\t\t\t\t<span>\n",
    "\t\t\t\t\t\t<a href=\"#All-faces\" data-toc-modified-id=\"All-faces\">\n",
    "\t\t\t\t\t\t\t<span class=\"toc-item-num\">1.1.&nbsp;&nbsp;</span>All faces\n",
    "\t\t\t\t\t\t</a>\n",
    "                        <ul class=\"toc-item\">\n",
    "                            <li>\n",
    "                                <span>\n",
    "                                    <a href=\"#Friends\" data-toc-modified-id=\"Friends\">\n",
    "                                        <span class=\"toc-item-num\">1.1.1.&nbsp;&nbsp;</span>Friends\n",
    "                                    </a>\n",
    "                                </span>    \n",
    "                            </li>\n",
    "                            <li>\n",
    "                                <span>\n",
    "                                    <a href=\"#James-and-Oliver-Phelps\" data-toc-modified-id=\"James-and-Oliver-Phelps\">\n",
    "                                        <span class=\"toc-item-num\">1.1.2.&nbsp;&nbsp;</span>James and Oliver Phelps\n",
    "                                    </a>\n",
    "                                </span>    \n",
    "                            </li>\n",
    "                            <li>\n",
    "                                <span>\n",
    "                                    <a href=\"#Adam-and-Jakub-Zdrojkowscy\" data-toc-modified-id=\"Adam-and-Jakub-Zdrojkowscy\">\n",
    "                                        <span class=\"toc-item-num\">1.1.3.&nbsp;&nbsp;</span>Adam and Jakub Zdrojkowscy\n",
    "                                    </a>\n",
    "                                </span>    \n",
    "                            </li>\n",
    "                            <li>\n",
    "                                <span>\n",
    "                                    <a href=\"#Ashley-and-Mary-Olsen\" data-toc-modified-id=\"Ashley-and-Mary-Olsen\">\n",
    "                                        <span class=\"toc-item-num\">1.1.4.&nbsp;&nbsp;</span>Ashley and Mary Olsen\n",
    "                                    </a>\n",
    "                                </span>    \n",
    "                            </li>\n",
    "                        </ul>\n",
    "\t\t\t\t\t</span>\n",
    "\t\t\t\t</li>\n",
    "                <li>\n",
    "\t\t\t\t\t<span>\n",
    "\t\t\t\t\t\t<a href=\"#First-twin\" data-toc-modified-id=\"First-twin\">\n",
    "\t\t\t\t\t\t\t<span class=\"toc-item-num\">1.2.&nbsp;&nbsp;</span>First twin\n",
    "\t\t\t\t\t\t</a>\n",
    "\t\t\t\t\t</span>\n",
    "\t\t\t\t</li>\n",
    "                <li>\n",
    "\t\t\t\t\t<span>\n",
    "\t\t\t\t\t\t<a href=\"#Second-twin\" data-toc-modified-id=\"Second-twin\">\n",
    "\t\t\t\t\t\t\t<span class=\"toc-item-num\">1.3.&nbsp;&nbsp;</span>Second twin\n",
    "\t\t\t\t\t\t</a>\n",
    "\t\t\t\t\t</span>\n",
    "\t\t\t\t</li>\n",
    "\t\t\t</ul>\n",
    "\t\t</li>\n",
    "\t\t<li>\n",
    "\t\t\t<span>\n",
    "\t\t\t\t<a href=\"#Face-recognition-in-videos\" data-toc-modified-id=\"Face-recognition-in-videos\">\n",
    "\t\t\t\t\t<span class=\"toc-item-num\">2.&nbsp;&nbsp;</span>Face recognition in videos\n",
    "\t\t\t\t</a>\n",
    "\t\t\t</span>\n",
    "\t\t</li>\n",
    "\t</ul>\n",
    "</div>"
   ]
  },
  {
   "cell_type": "code",
   "execution_count": 1,
   "id": "302b4eca",
   "metadata": {},
   "outputs": [],
   "source": [
    "import face_recognition as fr\n",
    "import os\n",
    "import cv2\n",
    "import numpy as np\n",
    "import random"
   ]
  },
  {
   "cell_type": "code",
   "execution_count": 8,
   "id": "8742da2b",
   "metadata": {},
   "outputs": [
    {
     "name": "stdout",
     "output_type": "stream",
     "text": [
      "face_recognition == 1.2.3\n",
      "cv2.cv2 == 4.5.3\n",
      "numpy == 1.19.5\n"
     ]
    }
   ],
   "source": [
    "print('\\n'.join(f'{m.__name__} == {m.__version__}' for m in globals().values() if getattr(m, '__version__', None)))"
   ]
  },
  {
   "cell_type": "markdown",
   "id": "9b420373",
   "metadata": {},
   "source": [
    "## Face recognition in pictures"
   ]
  },
  {
   "cell_type": "code",
   "execution_count": 5,
   "id": "bba6256e",
   "metadata": {},
   "outputs": [],
   "source": [
    "def get_encoded_faces(faces_location):\n",
    "    \n",
    "    encoded = {}\n",
    "\n",
    "    for dirpath, dnames, fnames in os.walk(\"./\"+ faces_location):\n",
    "        for f in fnames:\n",
    "            if f.endswith(\".jpg\"):\n",
    "                face = fr.load_image_file(faces_location + \"/\" + f)\n",
    "                encoding = fr.face_encodings(face)[0]\n",
    "                encoded[f.split(\".\")[0]] = encoding\n",
    "\n",
    "    return encoded\n",
    "\n",
    "def classify_face(faces_location, im, encoding_location):\n",
    "    \n",
    "    faces = get_encoded_faces(faces_location)\n",
    "    faces_encoded = list(faces.values())\n",
    "    known_face_names = list(faces.keys())\n",
    "\n",
    "    img = cv2.imread(im, 1)\n",
    " \n",
    "    face_locations = fr.face_locations(img)\n",
    "    unknown_face_encodings = fr.face_encodings(img, face_locations)\n",
    "\n",
    "    face_names = []\n",
    "\n",
    "    for face_encoding in unknown_face_encodings:\n",
    "        \n",
    "        matches = fr.compare_faces(faces_encoded, face_encoding)\n",
    "        name = \"Unknown\"\n",
    "\n",
    "        face_distances = fr.face_distance(faces_encoded, face_encoding)\n",
    "        best_match_index = np.argmin(face_distances)\n",
    "        if matches[best_match_index]:\n",
    "            name = known_face_names[best_match_index]\n",
    "\n",
    "        face_names.append(name)\n",
    "\n",
    "        for (top, right, bottom, left), name in zip(face_locations, face_names):\n",
    "            \n",
    "            cv2.rectangle(img, (left-35, top-35), (right+35, bottom+35), (0, 255, 0), 2)\n",
    "\n",
    "            cv2.rectangle(img, (left-35, bottom+5), (right+35, bottom+35), (0, 255, 0), cv2.FILLED)\n",
    "            font = cv2.FONT_HERSHEY_DUPLEX\n",
    "            cv2.putText(img, name, (left -35, bottom + 30), font, 0.8, (0, 0, 0), 1, cv2.LINE_AA)\n",
    "\n",
    "    while True:\n",
    "\n",
    "        imagename = \"_\".join(face_names) + str(random.randint(0, 99))\n",
    "        filename =  encoding_location + \"/\" + imagename + '.jpg'\n",
    "        cv2.imwrite(filename, img)\n",
    "        if cv2.waitKey(1):\n",
    "            return face_names "
   ]
  },
  {
   "cell_type": "markdown",
   "id": "4e51c5a8",
   "metadata": {},
   "source": [
    "## All faces "
   ]
  },
  {
   "cell_type": "markdown",
   "id": "fdbb244e",
   "metadata": {},
   "source": [
    "At first, I wanted to check whether the library can detect *Friends* actors. As an input, I used photographs from the first season (premiere in 1994) and an output was the image from the show *Friends Reunion* which took place in 2021. The result amazed me, cause, despite plastic surgeries, addictions and changes caused by age, the library correctly labelled actors."
   ]
  },
  {
   "cell_type": "code",
   "execution_count": 6,
   "id": "55081cec",
   "metadata": {},
   "outputs": [
    {
     "name": "stdout",
     "output_type": "stream",
     "text": [
      "['Rachel', 'Chandler', 'Phoebe', 'Joey', 'Monica', 'Ross']\n",
      "['Oliver_Phelps', 'James_Phelps']\n",
      "['Jakub', 'Adam']\n",
      "['Jakub', 'Adam']\n",
      "['Ashley_Olsen', 'Ashley_Olsen']\n",
      "['Ashley_Olsen', 'Ashley_Olsen']\n",
      "['Ashley_Olsen', 'Mary_Olsen']\n"
     ]
    }
   ],
   "source": [
    "for i in range(0, 7):\n",
    "    file = 'tests/test' + str(i) + '.jpg'\n",
    "    print(classify_face(\"faces\", file, \"encoded\"))"
   ]
  },
  {
   "cell_type": "markdown",
   "id": "a76d7821",
   "metadata": {},
   "source": [
    "### Friends"
   ]
  },
  {
   "cell_type": "markdown",
   "id": "9b848ece",
   "metadata": {},
   "source": [
    "<table>\n",
    "  <tr>\n",
    "    <td style=\"text-align:center;\"><b>Monica</b><img src=\"faces/Monica.jpg\"  alt=\"Monica\" width = "180px" height = "320px"/></td>\n",
    "    <td style=\"text-align:center;\"><b>Rachel</b><img src=\"faces/Rachel.jpg\" alt=\"Rachel\" width = 180px height = 320px></td>\n",
    "    <td style=\"text-align:center;\"><b>Phoebe</b><img src=\"faces/Phoebe.jpg\" alt=\"Phoebe\" width = 180px height = 320px></td>\n",
    "  </tr>\n",
    "  <tr>\n",
    "    <td style=\"text-align:center;\"><b>Chandler</b><img src=\"faces/Chandler.jpg\" alt=\"Chandler\" width = 180px height = 320px></td>\n",
    "    <td style=\"text-align:center;\"><b>Ross</b><img src=\"faces/Ross.jpg\" alt=\"Ross\" width = 240px height = 440px></td>\n",
    "    <td style=\"text-align:center;\"><b>Joye</b><img src=\"faces/Joey.jpg\" alt=\"Joey\" width = 180px height = 320px></td>\n",
    "   </tr>\n",
    "</table>\n",
    "<table>\n",
    "   <tr>\n",
    "    <td style=\"text-align:center;\"><b>Friends</b><img src=\"encoded/Rachel_Chandler_Phoebe_Joey_Monica_Ross91.jpg\" alt=\"Friends\" width = 640px height = 1280px></td>\n",
    "   </tr> \n",
    "</table>"
   ]
  },
  {
   "cell_type": "markdown",
   "id": "a1ab9d2c",
   "metadata": {},
   "source": [
    "The following 3 groups concern twins."
   ]
  },
  {
   "cell_type": "markdown",
   "id": "cff5bc0f",
   "metadata": {},
   "source": [
    "### James and Oliver Phelps"
   ]
  },
  {
   "cell_type": "markdown",
   "id": "7bd54e57",
   "metadata": {},
   "source": [
    "Firstly, I compared the current *James Phelps* photograph with *Oliver Phelps* photograph. Actors were correctly classified, although a trial testing the same picture (3rd one) with actors appearance from the Harry Potter and Goblet of Fire movie (4th part) did not finish with success - the heroes were not recognised by the algorithm. "
   ]
  },
  {
   "cell_type": "markdown",
   "id": "f1194dd3",
   "metadata": {},
   "source": [
    "<table>\n",
    "  <tr>\n",
    "    <td style=\"text-align:center;\"><b>James Phelps</b><img src=\"faces/James_Phelps.jpg\"  alt=\"James\" width = 250px height = 500px></td>\n",
    "    <td style=\"text-align:center;\"><b>Oliver Phelps</b><img src=\"faces/Oliver_Phelps.jpg\" alt=\"Oliver\" width = 250px height = 500px></td>\n",
    "  </tr>\n",
    "</table>\n",
    "\n",
    "<table>\n",
    "   <tr>\n",
    "    <td style=\"text-align:center;\"><b>James and Oliver Phelps</b><img src=\"encoded/Oliver_Phelps_James_Phelps10.jpg\" alt=\"James and Oliver Phelps\" width = 640px height = 1280px></td>\n",
    "   </tr> \n",
    "</table>"
   ]
  },
  {
   "cell_type": "markdown",
   "id": "c506bac0",
   "metadata": {},
   "source": [
    "### Adam and Jakub Zdrojkowscy"
   ]
  },
  {
   "cell_type": "markdown",
   "id": "907cb05a",
   "metadata": {},
   "source": [
    "The next couple of twins was brothers *Adam* and *Jakub Zdrojkowscy* (Polish actors). As an input, I used photographs from a young age. To test photographs, both the young one and the current photo with current appearance were used. Again, the algorithm did correctly its job."
   ]
  },
  {
   "cell_type": "markdown",
   "id": "ca2df25f",
   "metadata": {},
   "source": [
    "<table>\n",
    "  <tr>\n",
    "    <td style=\"text-align:center;\"><b>Adam Zdrojkowski</b><img src=\"faces/Adam.jpg\"  alt=\"Adam\" width = 235px height = 340px></td>\n",
    "    <td style=\"text-align:center;\"><b>Jakub Zdrojkowski</b><img src=\"faces/Jakub.jpg\" alt=\"Jakub\" width = 180px height = 280px></td>\n",
    "  </tr>\n",
    "</table>"
   ]
  },
  {
   "cell_type": "markdown",
   "id": "f09dbeca",
   "metadata": {},
   "source": [
    "<table>\n",
    "  <tr>\n",
    "    <td style=\"text-align:center;\"><b>Adam and Jakub Zdrojkowscy</b><img src=\"encoded/Jakub_Adam10.jpg\"  alt=\"Adam and Jakub Zdrojkowscy\" width = 525px height = 700px></td>\n",
    "    <td style=\"text-align:center;\"><b>Adam and Jakub Zdrojkowscy</b><img src=\"encoded/Jakub_Adam34.jpg\" alt=\"Adam and Jakub Zdrojkowscy\" width = 500px height = 600px></td>\n",
    "  </tr>\n",
    "</table>"
   ]
  },
  {
   "cell_type": "markdown",
   "id": "a92f7d20",
   "metadata": {},
   "source": [
    "### Ashley and Mary Olsen"
   ]
  },
  {
   "cell_type": "markdown",
   "id": "911e64cb",
   "metadata": {},
   "source": [
    "The final twins were *Ashley* and *Mary Olsen*. Conversely, as input was used their current photographs and their child ones were used for testing. At this test, the algorithm had some problems with detecting the women. Finally, one of the three photographs was correctly labelled. "
   ]
  },
  {
   "cell_type": "markdown",
   "id": "3ce0b82b",
   "metadata": {},
   "source": [
    "<table>\n",
    "  <tr>\n",
    "    <td style=\"text-align:center;\"><b>Ashley Olsen</b><img src=\"faces/Ashley_Olsen.jpg\"  alt=\"Ashley\" width = 300px height = 300px></td>\n",
    "    <td style=\"text-align:center;\"><b>Mary Olsen</b><img src=\"faces/Mary_Olsen.jpg\" alt=\"Mary\" width = 250px height = 200px></td>\n",
    "  </tr>\n",
    "</table>"
   ]
  },
  {
   "cell_type": "markdown",
   "id": "d2d330a0",
   "metadata": {},
   "source": [
    "<table>\n",
    "  <tr>\n",
    "    <td style=\"text-align:center;\"><b>Ashley and Mary Olsen</b><img src=\"encoded/Ashley_Olsen_Ashley_Olsen27.jpg\"  alt=\"Ashley and Mary Olsen\" width = 430px height = 500px></td>\n",
    "    <td style=\"text-align:center;\"><b>Ashley and Mary Olsen</b><img src=\"encoded/Ashley_Olsen_Mary_Olsen57.jpg\" alt=\"Ashley and Mary Olsen\" width = 500px height = 600px></td>\n",
    "  </tr>\n",
    "</table>"
   ]
  },
  {
   "cell_type": "markdown",
   "id": "d76294c4",
   "metadata": {},
   "source": [
    "To check the algorithm brilliance in recognising twins, deleting one of the twins was applied."
   ]
  },
  {
   "cell_type": "markdown",
   "id": "fc0eeaad",
   "metadata": {},
   "source": [
    "## First twin"
   ]
  },
  {
   "cell_type": "markdown",
   "id": "a1d77be7",
   "metadata": {},
   "source": [
    "On the first try, the algorithm was successfully deceived. For both twins, the algorithm claimed the double existence of the same person on the photograph. "
   ]
  },
  {
   "cell_type": "code",
   "execution_count": 7,
   "id": "55bd2e64",
   "metadata": {},
   "outputs": [
    {
     "name": "stdout",
     "output_type": "stream",
     "text": [
      "['James_Phelps', 'James_Phelps']\n",
      "['Adam', 'Adam']\n",
      "['Adam', 'Adam']\n",
      "['Ashley_Olsen', 'Ashley_Olsen']\n",
      "['Ashley_Olsen', 'Ashley_Olsen']\n",
      "['Ashley_Olsen', 'Ashley_Olsen']\n"
     ]
    }
   ],
   "source": [
    "for i in range(1, 7):\n",
    "    file = 'tests/test' + str(i) + '.jpg'\n",
    "    print(classify_face(\"faces1\", file, \"encoded1\"))"
   ]
  },
  {
   "cell_type": "markdown",
   "id": "d22d257e",
   "metadata": {},
   "source": [
    "## Second twin"
   ]
  },
  {
   "cell_type": "markdown",
   "id": "0105ebe4",
   "metadata": {},
   "source": [
    "For the second twin, the algorithm was deluded partially. Half of the photographs were correctly labelled."
   ]
  },
  {
   "cell_type": "code",
   "execution_count": 8,
   "id": "74504a99",
   "metadata": {},
   "outputs": [
    {
     "name": "stdout",
     "output_type": "stream",
     "text": [
      "['Oliver_Phelps', 'Oliver_Phelps']\n",
      "['Jakub', 'Jakub']\n",
      "['Jakub', 'Unknown']\n",
      "['Mary_Olsen', 'Mary_Olsen']\n",
      "['Mary_Olsen', 'Unknown']\n",
      "['Unknown', 'Mary_Olsen']\n"
     ]
    }
   ],
   "source": [
    "for i in range(1, 7):\n",
    "    file = 'tests/test' + str(i) + '.jpg'\n",
    "    print(classify_face(\"faces2\", file, \"encoded2\"))"
   ]
  },
  {
   "cell_type": "markdown",
   "id": "705eed5a",
   "metadata": {},
   "source": [
    "<table>\n",
    "  <tr>\n",
    "    <td style=\"text-align:center;\"><b>Adam and Jakub Zdrojkowscy</b><img src=\"encoded2/Jakub_Unknown8.jpg\"  alt=\"Adam and Jakub Zdrojkowscy\" width = 500px height = 600px></td>\n",
    "    <td style=\"text-align:center;\"><b>Ashley and Mary Olsen</b><img src=\"encoded2/Unknown_Mary_Olsen63.jpg\" alt=\"Ashley and Mary Olsen\" width = 460px height = 600px></td>\n",
    "  </tr>\n",
    "</table>"
   ]
  },
  {
   "cell_type": "markdown",
   "id": "a77cdfa2",
   "metadata": {},
   "source": [
    "An interesting remark is comparing results for the below photograph. When the dataset of faces was complete, the algorithm declared the double existence of *Ashley Olsen* (2nd image). However, when only *Mary Olsen* was in the dataset, the algorithm correctly detected her face (1st image)."
   ]
  },
  {
   "cell_type": "markdown",
   "id": "19f610ce",
   "metadata": {},
   "source": [
    "<table>\n",
    "  <tr>\n",
    "    <td style=\"text-align:center;\"><b>Ashley and Mary Olsen</b><img src=\"encoded2/Mary_Olsen_Unknown68.jpg\"  alt=\"Ashley and Mary Olsen\" width = 300px height = 300px></td>\n",
    "    <td style=\"text-align:center;\"><b>Ashley and Mary Olsen</b><img src=\"encoded/Ashley_Olsen_Ashley_Olsen33.jpg\" alt=\"Ashley and Mary Olsen\" width = 300px height = 300px></td>\n",
    "  </tr>\n",
    "</table>"
   ]
  },
  {
   "cell_type": "markdown",
   "id": "4650881b",
   "metadata": {},
   "source": [
    "## Face recognition in videos"
   ]
  },
  {
   "cell_type": "markdown",
   "id": "f1aaec52",
   "metadata": {},
   "source": [
    "In the end, I was curious whether the algorithm can detect deep fakes, so I used (I suppose) the most famous one with *Barack Obama* being deep faked with *Jordan Peele* voice. The algorithm failed that try claiming the existence of *Barack Obama* on the video. I am not surprised by that, because the algorithm is not designated for such type of task. For detecting deepfakes, other technologies are used, and I can not wait to try them next!"
   ]
  },
  {
   "cell_type": "code",
   "execution_count": 19,
   "id": "082f7206",
   "metadata": {},
   "outputs": [],
   "source": [
    "video_capture = cv2.VideoCapture(\"tests/test.mp4\")\n",
    "\n",
    "obama_image = fr.load_image_file(\"faces/Obama.jpg\")\n",
    "obama_face_encoding = fr.face_encodings(obama_image)[0]\n",
    "\n",
    "peele_image = fr.load_image_file(\"faces/Peele.jpg\")\n",
    "peele_face_encoding = fr.face_encodings(peele_image)[0]\n",
    "\n",
    "known_face_encodings = [obama_face_encoding, peele_face_encoding]\n",
    "known_face_names = [\"Barack Obama\", \"Jordan Peele\"]\n",
    "\n",
    "face_locations = []\n",
    "face_encodings = []\n",
    "face_names = []\n",
    "process_this_frame = True\n",
    "\n",
    "while True:\n",
    "\n",
    "    ret, frame = video_capture.read()\n",
    "\n",
    "    small_frame = cv2.resize(frame, (0, 0), fx=0.25, fy=0.25)\n",
    "    rgb_small_frame = small_frame[:, :, ::-1]  \n",
    "\n",
    "    if process_this_frame:\n",
    "\n",
    "        face_locations = fr.face_locations(rgb_small_frame)\n",
    "        face_encodings = fr.face_encodings(rgb_small_frame, face_locations)\n",
    "\n",
    "        face_names = []\n",
    "        for face_encoding in face_encodings:\n",
    "\n",
    "            matches = fr.compare_faces(known_face_encodings, face_encoding)\n",
    "            name = \"Unknown\"\n",
    "\n",
    "            face_distances = fr.face_distance(known_face_encodings, face_encoding)\n",
    "            best_match_index = np.argmin(face_distances)\n",
    "            if matches[best_match_index]:\n",
    "                name = known_face_names[best_match_index]\n",
    "\n",
    "            face_names.append(name)\n",
    "\n",
    "    process_this_frame = not process_this_frame\n",
    "\n",
    "\n",
    "    for (top, right, bottom, left), name in zip(face_locations, face_names):\n",
    "        top *= 4\n",
    "        right *= 4\n",
    "        bottom *= 4\n",
    "        left *= 4\n",
    "\n",
    "        cv2.rectangle(frame, (left-35, top-35), (right+35, bottom+35), (0, 0, 255), 2)\n",
    "\n",
    "        cv2.rectangle(frame, (left-35, bottom + 5), (right+35, bottom+35), (0, 0, 255), cv2.FILLED)\n",
    "        font = cv2.FONT_HERSHEY_DUPLEX\n",
    "        cv2.putText(frame, name, (left - 35, bottom + 30), font, 1.0, (255, 255, 255), 1)\n",
    "\n",
    "    cv2.imshow('Video', frame)\n",
    "\n",
    "    if cv2.waitKey(1) & 0xFF == ord('q'):\n",
    "        break\n",
    "\n",
    "video_capture.release()\n",
    "cv2.destroyAllWindows()"
   ]
  },
  {
   "cell_type": "markdown",
   "id": "eda61c8a",
   "metadata": {},
   "source": [
    "<table>\n",
    "  <tr>\n",
    "    <td style=\"text-align:center;\"><b>Barack Obama</b><img src=\"faces/Obama.jpg\"  alt=\"Obama\" width = 250px height = 500px></td>\n",
    "    <td style=\"text-align:center;\"><b>Jordan Peele</b><img src=\"faces/Peele.jpg\" alt=\"Peele\" width = 250px height = 500px></td>\n",
    "  </tr>\n",
    "</table>\n",
    "\n",
    "<table>\n",
    "   <tr>\n",
    "    <td style=\"text-align:center;\"><b>Deep Barack Obama Fake and Jordan Peele</b><img src=\"encoded/Deep_fake.jpg\" alt=\"Deep Barack Obama Fake and Jordan Peele\" width = 640px height = 1280px></td>\n",
    "   </tr> \n",
    "</table>"
   ]
  }
 ],
 "metadata": {
  "kernelspec": {
   "display_name": "Python 3",
   "language": "python",
   "name": "python3"
  },
  "language_info": {
   "codemirror_mode": {
    "name": "ipython",
    "version": 3
   },
   "file_extension": ".py",
   "mimetype": "text/x-python",
   "name": "python",
   "nbconvert_exporter": "python",
   "pygments_lexer": "ipython3",
   "version": "3.8.10"
  }
 },
 "nbformat": 4,
 "nbformat_minor": 5
}
